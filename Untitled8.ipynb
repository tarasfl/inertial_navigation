{
  "nbformat": 4,
  "nbformat_minor": 0,
  "metadata": {
    "colab": {
      "provenance": []
    },
    "kernelspec": {
      "name": "python3",
      "display_name": "Python 3"
    },
    "language_info": {
      "name": "python"
    },
    "accelerator": "GPU",
    "gpuClass": "standard"
  },
  "cells": [
    {
      "cell_type": "code",
      "execution_count": 1,
      "metadata": {
        "colab": {
          "base_uri": "https://localhost:8080/"
        },
        "id": "4jZ3ct8f3Uig",
        "outputId": "86550cc0-c119-4cd1-8f5d-ad80ee21ce0b"
      },
      "outputs": [
        {
          "output_type": "stream",
          "name": "stdout",
          "text": [
            "Looking in indexes: https://pypi.org/simple, https://us-python.pkg.dev/colab-wheels/public/simple/\n",
            "Requirement already satisfied: matplotlib in /usr/local/lib/python3.8/dist-packages (3.2.2)\n",
            "Requirement already satisfied: numpy in /usr/local/lib/python3.8/dist-packages (1.21.6)\n",
            "Requirement already satisfied: termcolor in /usr/local/lib/python3.8/dist-packages (2.1.1)\n",
            "Requirement already satisfied: scipy in /usr/local/lib/python3.8/dist-packages (1.7.3)\n",
            "Collecting navpy\n",
            "  Downloading NavPy-1.0-py3-none-any.whl (14 kB)\n",
            "Requirement already satisfied: pyparsing!=2.0.4,!=2.1.2,!=2.1.6,>=2.0.1 in /usr/local/lib/python3.8/dist-packages (from matplotlib) (3.0.9)\n",
            "Requirement already satisfied: python-dateutil>=2.1 in /usr/local/lib/python3.8/dist-packages (from matplotlib) (2.8.2)\n",
            "Requirement already satisfied: kiwisolver>=1.0.1 in /usr/local/lib/python3.8/dist-packages (from matplotlib) (1.4.4)\n",
            "Requirement already satisfied: cycler>=0.10 in /usr/local/lib/python3.8/dist-packages (from matplotlib) (0.11.0)\n",
            "Requirement already satisfied: six>=1.5 in /usr/local/lib/python3.8/dist-packages (from python-dateutil>=2.1->matplotlib) (1.15.0)\n",
            "Installing collected packages: navpy\n",
            "Successfully installed navpy-1.0\n"
          ]
        }
      ],
      "source": [
        "! pip install matplotlib numpy termcolor scipy navpy"
      ]
    },
    {
      "cell_type": "code",
      "source": [
        "!git clone https://github.com/mbrossar/ai-imu-dr.git"
      ],
      "metadata": {
        "colab": {
          "base_uri": "https://localhost:8080/"
        },
        "id": "LXqCy0HR3Yd4",
        "outputId": "cb2574a8-682e-40b7-d169-346069608de0"
      },
      "execution_count": 2,
      "outputs": [
        {
          "output_type": "stream",
          "name": "stdout",
          "text": [
            "Cloning into 'ai-imu-dr'...\n",
            "remote: Enumerating objects: 112, done.\u001b[K\n",
            "remote: Counting objects: 100% (37/37), done.\u001b[K\n",
            "remote: Compressing objects: 100% (14/14), done.\u001b[K\n",
            "remote: Total 112 (delta 28), reused 23 (delta 23), pack-reused 75\u001b[K\n",
            "Receiving objects: 100% (112/112), 550.08 KiB | 22.00 MiB/s, done.\n",
            "Resolving deltas: 100% (41/41), done.\n"
          ]
        }
      ]
    },
    {
      "cell_type": "code",
      "source": [
        "!wget \"https://www.dropbox.com/s/ey41xsvfqca30vv/data.zip\"\n",
        "!mkdir ai-imu-dr/results\n",
        "!unzip data.zip -d ai-imu-dr\n",
        "!rm data.zip"
      ],
      "metadata": {
        "colab": {
          "base_uri": "https://localhost:8080/"
        },
        "id": "sWfWlcqD3d5B",
        "outputId": "0fec13ff-b6a4-4b8a-dd07-193c6339ec26"
      },
      "execution_count": 3,
      "outputs": [
        {
          "output_type": "stream",
          "name": "stdout",
          "text": [
            "--2022-12-13 16:13:57--  https://www.dropbox.com/s/ey41xsvfqca30vv/data.zip\n",
            "Resolving www.dropbox.com (www.dropbox.com)... 162.125.4.18, 2620:100:6019:18::a27d:412\n",
            "Connecting to www.dropbox.com (www.dropbox.com)|162.125.4.18|:443... connected.\n",
            "HTTP request sent, awaiting response... 302 Found\n",
            "Location: /s/raw/ey41xsvfqca30vv/data.zip [following]\n",
            "--2022-12-13 16:13:57--  https://www.dropbox.com/s/raw/ey41xsvfqca30vv/data.zip\n",
            "Reusing existing connection to www.dropbox.com:443.\n",
            "HTTP request sent, awaiting response... 302 Found\n",
            "Location: https://uc0384265fd43905be0464fdae81.dl.dropboxusercontent.com/cd/0/inline/BygU6rntd0_O9Vt-IZrfCxeiXiOc2W8CVs6wx2XCVJTB6h_HQjvz6Pj_0FfQ31Sxm2RP6ELQPHliwaUwzj9gQL_Fd3e5McH16qWjykYAnOmCYUjBcVwD_sdn_GsrmEZw-IDGTW3TCDYtrT_9_5FDKFEBKGUwfGLT0cNtjVuwmc4fow/file# [following]\n",
            "--2022-12-13 16:13:58--  https://uc0384265fd43905be0464fdae81.dl.dropboxusercontent.com/cd/0/inline/BygU6rntd0_O9Vt-IZrfCxeiXiOc2W8CVs6wx2XCVJTB6h_HQjvz6Pj_0FfQ31Sxm2RP6ELQPHliwaUwzj9gQL_Fd3e5McH16qWjykYAnOmCYUjBcVwD_sdn_GsrmEZw-IDGTW3TCDYtrT_9_5FDKFEBKGUwfGLT0cNtjVuwmc4fow/file\n",
            "Resolving uc0384265fd43905be0464fdae81.dl.dropboxusercontent.com (uc0384265fd43905be0464fdae81.dl.dropboxusercontent.com)... 162.125.6.15, 2620:100:6019:15::a27d:40f\n",
            "Connecting to uc0384265fd43905be0464fdae81.dl.dropboxusercontent.com (uc0384265fd43905be0464fdae81.dl.dropboxusercontent.com)|162.125.6.15|:443... connected.\n",
            "HTTP request sent, awaiting response... 302 Found\n",
            "Location: /cd/0/inline2/BygBomD9ZT0n5i7GbYl1VKzSUwC0nh__Ptszj5hjHDNeAguSkp2dN-Nwqaf09JVE7dKCexT8MC99PxqnvGjeKb9Oo9b9n5_GQyHThB1UfOduEigGF-MCBVUNAF2ZH90BRVRfFZQmbUpMLMslWzZWLqdlKetAiOKPNKJu33jHURgbr2iub_R_Od5c2lovGweNiaxo8KnLfJQg6NDbmX8LcorfSJD29Gk0cYLKIjnwpnTADorb0VV3k5hrhjGIfIjVfd5MI9RVM9mAC45hra7pLF-kc19Y-mXgULcRwPsVrkqOPQZBBXWKyCF7xEzC8ROOjHnN-Q6e_m-33C7YncG_02s4Wx8TG5gryy0g_h0xzrGMT4hU1buKmVUbsx32HtTJ4Q4TYnSE9-g4pT7FQbhbxDZ51urMXbqEqq4Cl4MYw0jCIw/file [following]\n",
            "--2022-12-13 16:13:58--  https://uc0384265fd43905be0464fdae81.dl.dropboxusercontent.com/cd/0/inline2/BygBomD9ZT0n5i7GbYl1VKzSUwC0nh__Ptszj5hjHDNeAguSkp2dN-Nwqaf09JVE7dKCexT8MC99PxqnvGjeKb9Oo9b9n5_GQyHThB1UfOduEigGF-MCBVUNAF2ZH90BRVRfFZQmbUpMLMslWzZWLqdlKetAiOKPNKJu33jHURgbr2iub_R_Od5c2lovGweNiaxo8KnLfJQg6NDbmX8LcorfSJD29Gk0cYLKIjnwpnTADorb0VV3k5hrhjGIfIjVfd5MI9RVM9mAC45hra7pLF-kc19Y-mXgULcRwPsVrkqOPQZBBXWKyCF7xEzC8ROOjHnN-Q6e_m-33C7YncG_02s4Wx8TG5gryy0g_h0xzrGMT4hU1buKmVUbsx32HtTJ4Q4TYnSE9-g4pT7FQbhbxDZ51urMXbqEqq4Cl4MYw0jCIw/file\n",
            "Reusing existing connection to uc0384265fd43905be0464fdae81.dl.dropboxusercontent.com:443.\n",
            "HTTP request sent, awaiting response... 200 OK\n",
            "Length: 23525716 (22M) [application/zip]\n",
            "Saving to: ‘data.zip’\n",
            "\n",
            "data.zip            100%[===================>]  22.44M  52.3MB/s    in 0.4s    \n",
            "\n",
            "2022-12-13 16:13:59 (52.3 MB/s) - ‘data.zip’ saved [23525716/23525716]\n",
            "\n",
            "Archive:  data.zip\n",
            "   creating: ai-imu-dr/data/\n",
            "  inflating: ai-imu-dr/data/2011_09_26_drive_0009_extract.p  \n",
            "  inflating: ai-imu-dr/data/2011_09_26_drive_0014_extract.p  \n",
            "  inflating: ai-imu-dr/data/2011_09_26_drive_0015_extract.p  \n",
            "  inflating: ai-imu-dr/data/2011_09_26_drive_0018_extract.p  \n",
            "  inflating: ai-imu-dr/data/2011_09_26_drive_0019_extract.p  \n",
            "  inflating: ai-imu-dr/data/2011_09_26_drive_0022_extract.p  \n",
            "  inflating: ai-imu-dr/data/2011_09_26_drive_0023_extract.p  \n",
            "  inflating: ai-imu-dr/data/2011_09_26_drive_0028_extract.p  \n",
            "  inflating: ai-imu-dr/data/2011_09_26_drive_0029_extract.p  \n",
            "  inflating: ai-imu-dr/data/2011_09_26_drive_0032_extract.p  \n",
            "  inflating: ai-imu-dr/data/2011_09_26_drive_0036_extract.p  \n",
            "  inflating: ai-imu-dr/data/2011_09_26_drive_0039_extract.p  \n",
            "  inflating: ai-imu-dr/data/2011_09_26_drive_0051_extract.p  \n",
            "  inflating: ai-imu-dr/data/2011_09_26_drive_0056_extract.p  \n",
            "  inflating: ai-imu-dr/data/2011_09_26_drive_0057_extract.p  \n",
            "  inflating: ai-imu-dr/data/2011_09_26_drive_0059_extract.p  \n",
            "  inflating: ai-imu-dr/data/2011_09_26_drive_0061_extract.p  \n",
            "  inflating: ai-imu-dr/data/2011_09_26_drive_0064_extract.p  \n",
            "  inflating: ai-imu-dr/data/2011_09_26_drive_0070_extract.p  \n",
            "  inflating: ai-imu-dr/data/2011_09_26_drive_0084_extract.p  \n",
            "  inflating: ai-imu-dr/data/2011_09_26_drive_0086_extract.p  \n",
            "  inflating: ai-imu-dr/data/2011_09_26_drive_0087_extract.p  \n",
            "  inflating: ai-imu-dr/data/2011_09_26_drive_0091_extract.p  \n",
            "  inflating: ai-imu-dr/data/2011_09_26_drive_0093_extract.p  \n",
            "  inflating: ai-imu-dr/data/2011_09_26_drive_0095_extract.p  \n",
            "  inflating: ai-imu-dr/data/2011_09_26_drive_0096_extract.p  \n",
            "  inflating: ai-imu-dr/data/2011_09_26_drive_0101_extract.p  \n",
            "  inflating: ai-imu-dr/data/2011_09_26_drive_0104_extract.p  \n",
            "  inflating: ai-imu-dr/data/2011_09_26_drive_0117_extract.p  \n",
            "  inflating: ai-imu-dr/data/2011_09_28_drive_0002_extract.p  \n",
            "  inflating: ai-imu-dr/data/2011_09_28_drive_0039_extract.p  \n",
            "  inflating: ai-imu-dr/data/2011_09_29_drive_0004_extract.p  \n",
            "  inflating: ai-imu-dr/data/2011_09_29_drive_0071_extract.p  \n",
            "  inflating: ai-imu-dr/data/2011_09_30_drive_0016_extract.p  \n",
            "  inflating: ai-imu-dr/data/2011_09_30_drive_0018_extract.p  \n",
            "  inflating: ai-imu-dr/data/2011_09_30_drive_0020_extract.p  \n",
            "  inflating: ai-imu-dr/data/2011_09_30_drive_0027_extract.p  \n",
            "  inflating: ai-imu-dr/data/2011_09_30_drive_0028_extract.p  \n",
            "  inflating: ai-imu-dr/data/2011_09_30_drive_0033_extract.p  \n",
            "  inflating: ai-imu-dr/data/2011_09_30_drive_0034_extract.p  \n",
            "  inflating: ai-imu-dr/data/2011_10_03_drive_0027_extract.p  \n",
            "  inflating: ai-imu-dr/data/2011_10_03_drive_0034_extract.p  \n",
            "  inflating: ai-imu-dr/data/2011_10_03_drive_0042_extract.p  \n"
          ]
        }
      ]
    },
    {
      "cell_type": "code",
      "source": [
        "!wget \"https://www.dropbox.com/s/77kq4s7ziyvsrmi/temp.zip\"\n",
        "!unzip temp.zip -d ai-imu-dr/temp\n",
        "!rm temp.zip"
      ],
      "metadata": {
        "colab": {
          "base_uri": "https://localhost:8080/"
        },
        "id": "pJHjq-dg3g8O",
        "outputId": "28a45acb-3e98-4a93-a0e5-c88d38cc2b73"
      },
      "execution_count": 4,
      "outputs": [
        {
          "output_type": "stream",
          "name": "stdout",
          "text": [
            "--2022-12-13 16:14:00--  https://www.dropbox.com/s/77kq4s7ziyvsrmi/temp.zip\n",
            "Resolving www.dropbox.com (www.dropbox.com)... 162.125.4.18, 2620:100:6019:18::a27d:412\n",
            "Connecting to www.dropbox.com (www.dropbox.com)|162.125.4.18|:443... connected.\n",
            "HTTP request sent, awaiting response... 302 Found\n",
            "Location: /s/raw/77kq4s7ziyvsrmi/temp.zip [following]\n",
            "--2022-12-13 16:14:00--  https://www.dropbox.com/s/raw/77kq4s7ziyvsrmi/temp.zip\n",
            "Reusing existing connection to www.dropbox.com:443.\n",
            "HTTP request sent, awaiting response... 302 Found\n",
            "Location: https://ucdb60ac95235d5fc5fcfea78b32.dl.dropboxusercontent.com/cd/0/inline/ByjSI4_KVJ5Sfw1LCj7jhvLkMrBt0ZW0TVWxeLjMwlaJ59Bov8miiTTHt0gitse02YhiSIIpU3uam8gqmsYCGqfoyVw9Br5OnsyfNB9Z157LBG9BwblWquE9UnGyjBymeOxAopJbPCUiRvOy2KC5K0QGS5GlwJwuDRTukkRvVsASQw/file# [following]\n",
            "--2022-12-13 16:14:01--  https://ucdb60ac95235d5fc5fcfea78b32.dl.dropboxusercontent.com/cd/0/inline/ByjSI4_KVJ5Sfw1LCj7jhvLkMrBt0ZW0TVWxeLjMwlaJ59Bov8miiTTHt0gitse02YhiSIIpU3uam8gqmsYCGqfoyVw9Br5OnsyfNB9Z157LBG9BwblWquE9UnGyjBymeOxAopJbPCUiRvOy2KC5K0QGS5GlwJwuDRTukkRvVsASQw/file\n",
            "Resolving ucdb60ac95235d5fc5fcfea78b32.dl.dropboxusercontent.com (ucdb60ac95235d5fc5fcfea78b32.dl.dropboxusercontent.com)... 162.125.4.15, 2620:100:6019:15::a27d:40f\n",
            "Connecting to ucdb60ac95235d5fc5fcfea78b32.dl.dropboxusercontent.com (ucdb60ac95235d5fc5fcfea78b32.dl.dropboxusercontent.com)|162.125.4.15|:443... connected.\n",
            "HTTP request sent, awaiting response... 302 Found\n",
            "Location: /cd/0/inline2/Byj_OZiFiWdU9y0_nToOO-G8UANNoe-OeQYdnvA1MzNnH7YaESffmw1_QxduklqlKeh31bRfL5eSdSPRnCwFlqYDKqYtH2AZd6FFUjmfGDyR0SHohuAqgMVKeJFp6WlIkbyrr4XV9Uouv0tqp_qJz1RaazjNzMQKNxnVOw5No64id8G21gVi7vdy_m1_-uOy07H5sjNRIEk01nqkVaL6mViKDlBrwUIGDZ_5Y9oUPwZzUhcQ6kiz61uazU2in4oNIqW7jOa3855fu5CFTbTuHocWwiE6bVrSLQBXr0eCvJm84nrm3_Cb2mTCodmVtx1yl-FVBtBKfdOsBQtTPyFFYPnG5eLP273wxmXv7KJkFIeq7dXbfNUfyxjC_fPx7QIDqu3ErGSIUZidzcxo4gReax9UsOPH2R65sjYdwK0CVHf-Ug/file [following]\n",
            "--2022-12-13 16:14:01--  https://ucdb60ac95235d5fc5fcfea78b32.dl.dropboxusercontent.com/cd/0/inline2/Byj_OZiFiWdU9y0_nToOO-G8UANNoe-OeQYdnvA1MzNnH7YaESffmw1_QxduklqlKeh31bRfL5eSdSPRnCwFlqYDKqYtH2AZd6FFUjmfGDyR0SHohuAqgMVKeJFp6WlIkbyrr4XV9Uouv0tqp_qJz1RaazjNzMQKNxnVOw5No64id8G21gVi7vdy_m1_-uOy07H5sjNRIEk01nqkVaL6mViKDlBrwUIGDZ_5Y9oUPwZzUhcQ6kiz61uazU2in4oNIqW7jOa3855fu5CFTbTuHocWwiE6bVrSLQBXr0eCvJm84nrm3_Cb2mTCodmVtx1yl-FVBtBKfdOsBQtTPyFFYPnG5eLP273wxmXv7KJkFIeq7dXbfNUfyxjC_fPx7QIDqu3ErGSIUZidzcxo4gReax9UsOPH2R65sjYdwK0CVHf-Ug/file\n",
            "Reusing existing connection to ucdb60ac95235d5fc5fcfea78b32.dl.dropboxusercontent.com:443.\n",
            "HTTP request sent, awaiting response... 200 OK\n",
            "Length: 1328505 (1.3M) [application/zip]\n",
            "Saving to: ‘temp.zip’\n",
            "\n",
            "temp.zip            100%[===================>]   1.27M  --.-KB/s    in 0.04s   \n",
            "\n",
            "2022-12-13 16:14:02 (31.9 MB/s) - ‘temp.zip’ saved [1328505/1328505]\n",
            "\n",
            "Archive:  temp.zip\n",
            "   creating: ai-imu-dr/temp/temp/\n",
            "  inflating: ai-imu-dr/temp/temp/08.gif  \n",
            "  inflating: ai-imu-dr/temp/temp/delta_p.p  \n",
            "  inflating: ai-imu-dr/temp/temp/iekf.jpg  \n",
            "  inflating: ai-imu-dr/temp/temp/iekfnets.p  \n",
            "  inflating: ai-imu-dr/temp/temp/normalize_factors.p  \n",
            "  inflating: ai-imu-dr/temp/temp/structure.jpg  \n"
          ]
        }
      ]
    },
    {
      "cell_type": "code",
      "source": [
        "\n",
        "!python3 ai-imu-dr/src/main_kitti.py"
      ],
      "metadata": {
        "colab": {
          "base_uri": "https://localhost:8080/"
        },
        "id": "mP2wB_9-3174",
        "outputId": "0d29ca60-b770-42d0-fb00-56b8d490e440"
      },
      "execution_count": 6,
      "outputs": [
        {
          "output_type": "stream",
          "name": "stdout",
          "text": [
            "/content/ai-imu-dr/src/train_torch_filter.py:127: SyntaxWarning: \"is not\" with a literal. Did you mean \"!=\"?\n",
            "  if len(rpe[0]) is not 0:\n",
            "/content/ai-imu-dr/src/train_torch_filter.py:137: SyntaxWarning: \"is not\" with a literal. Did you mean \"!=\"?\n",
            "  if len(rpe[0]) is not 0:\n",
            "/content/ai-imu-dr/src/train_torch_filter.py:159: SyntaxWarning: \"is\" with a literal. Did you mean \"==\"?\n",
            "  if loss is -1 or torch.isnan(loss):\n",
            "/content/ai-imu-dr/src/train_torch_filter.py:265: SyntaxWarning: \"is\" with a literal. Did you mean \"==\"?\n",
            "  if len(idxs_0_bis) is 0:\n",
            "... ended computing normalizing factors\n",
            "\u001b[33mIEKF nets NOT loaded\u001b[0m\n",
            "Test filter on sequence: 2011_09_30_drive_0033_extract\n",
            "Execution time: 7.27 s (sequence time: 165.98 s)\n",
            "Test filter on sequence: 2011_10_03_drive_0034_extract\n",
            "Execution time: 23.24 s (sequence time: 484.11 s)\n",
            "Test filter on sequence: 2011_09_30_drive_0027_extract\n",
            "Execution time: 4.96 s (sequence time: 115.55 s)\n",
            "Test filter on sequence: 2011_09_30_drive_0018_extract\n",
            "Execution time: 12.87 s (sequence time: 288.29 s)\n",
            "Test filter on sequence: 2011_09_30_drive_0016_extract\n",
            "Execution time: 1.33 s (sequence time: 29.66 s)\n",
            "Test filter on sequence: 2011_09_30_drive_0028_extract\n",
            "Execution time: 23.77 s (sequence time: 538.48 s)\n",
            "Test filter on sequence: 2011_10_03_drive_0027_extract\n",
            "Execution time: 21.94 s (sequence time: 471.54 s)\n",
            "Test filter on sequence: 2011_10_03_drive_0042_extract\n",
            "Execution time: 5.21 s (sequence time: 121.92 s)\n",
            "Test filter on sequence: 2011_09_30_drive_0020_extract\n",
            "Execution time: 4.86 s (sequence time: 115.35 s)\n",
            "Test filter on sequence: 2011_09_30_drive_0034_extract\n",
            "Execution time: 5.47 s (sequence time: 127.53 s)\n",
            "No result for 2011_09_26_drive_0036_extract\n",
            "No result for 2011_09_26_drive_0084_extract\n",
            "\n",
            "Results for: 2011_09_30_drive_0033_extract\n",
            "Total sequence time: 165.98 s\n",
            "Figure(2000x1000)\n",
            "Figure(2000x1000)\n",
            "Figure(2000x1000)\n",
            "Figure(2000x1000)\n",
            "Figure(2000x1000)\n",
            "Figure(2000x1000)\n",
            "Figure(2000x1000)\n",
            "No result for 2011_09_26_drive_0059_extract\n",
            "No result for 2011_09_26_drive_0070_extract\n",
            "\n",
            "Results for: 2011_10_03_drive_0034_extract\n",
            "Total sequence time: 484.11 s\n",
            "Figure(2000x1000)\n",
            "Figure(2000x1000)\n",
            "Figure(2000x1000)\n",
            "Figure(2000x1000)\n",
            "Figure(2000x1000)\n",
            "Figure(2000x1000)\n",
            "Figure(2000x1000)\n",
            "No result for 2011_09_29_drive_0071_extract\n",
            "No result for 2011_09_26_drive_0086_extract\n",
            "No result for 2011_09_26_drive_0015_extract\n",
            "\n",
            "Results for: 2011_09_30_drive_0027_extract\n",
            "Total sequence time: 115.55 s\n",
            "Figure(2000x1000)\n",
            "Figure(2000x1000)\n",
            "Figure(2000x1000)\n",
            "Figure(2000x1000)\n",
            "Figure(2000x1000)\n",
            "Figure(2000x1000)\n",
            "Figure(2000x1000)\n",
            "No result for 2011_09_26_drive_0019_extract\n",
            "\n",
            "Results for: 2011_09_30_drive_0018_extract\n",
            "Total sequence time: 288.29 s\n",
            "Figure(2000x1000)\n",
            "Figure(2000x1000)\n",
            "Figure(2000x1000)\n",
            "Figure(2000x1000)\n",
            "Figure(2000x1000)\n",
            "Figure(2000x1000)\n",
            "Figure(2000x1000)\n",
            "No result for 2011_09_26_drive_0032_extract\n",
            "No result for 2011_09_26_drive_0095_extract\n",
            "No result for 2011_09_26_drive_0029_extract\n",
            "No result for 2011_09_26_drive_0039_extract\n",
            "No result for 2011_09_26_drive_0064_extract\n",
            "No result for 2011_09_26_drive_0057_extract\n",
            "No result for 2011_09_26_drive_0087_extract\n",
            "No result for 2011_09_29_drive_0004_extract\n",
            "No result for 2011_09_26_drive_0023_extract\n",
            "\n",
            "Results for: 2011_09_30_drive_0016_extract\n",
            "Total sequence time: 29.66 s\n",
            "Figure(2000x1000)\n",
            "Figure(2000x1000)\n",
            "Figure(2000x1000)\n",
            "Figure(2000x1000)\n",
            "Figure(2000x1000)\n",
            "Figure(2000x1000)\n",
            "Figure(2000x1000)\n",
            "No result for 2011_09_26_drive_0056_extract\n",
            "\n",
            "Results for: 2011_09_30_drive_0028_extract\n",
            "Total sequence time: 538.48 s\n",
            "Figure(2000x1000)\n",
            "Figure(2000x1000)\n",
            "Figure(2000x1000)\n",
            "Figure(2000x1000)\n",
            "Figure(2000x1000)\n",
            "Figure(2000x1000)\n",
            "Figure(2000x1000)\n",
            "No result for 2011_09_26_drive_0051_extract\n",
            "No result for 2011_09_26_drive_0028_extract\n",
            "\n",
            "Results for: 2011_10_03_drive_0027_extract\n",
            "Total sequence time: 471.54 s\n",
            "Figure(2000x1000)\n",
            "Figure(2000x1000)\n",
            "Figure(2000x1000)\n",
            "Figure(2000x1000)\n",
            "Figure(2000x1000)\n",
            "Figure(2000x1000)\n",
            "Figure(2000x1000)\n",
            "No result for 2011_09_26_drive_0018_extract\n",
            "No result for 2011_09_26_drive_0104_extract\n",
            "No result for 2011_09_26_drive_0096_extract\n",
            "No result for 2011_09_26_drive_0061_extract\n",
            "\n",
            "Results for: 2011_10_03_drive_0042_extract\n",
            "Total sequence time: 121.92 s\n",
            "Figure(2000x1000)\n",
            "Figure(2000x1000)\n",
            "Figure(2000x1000)\n",
            "Figure(2000x1000)\n",
            "Figure(2000x1000)\n",
            "Figure(2000x1000)\n",
            "Figure(2000x1000)\n",
            "No result for 2011_09_26_drive_0022_extract\n",
            "\n",
            "Results for: 2011_09_30_drive_0020_extract\n",
            "Total sequence time: 115.35 s\n",
            "Figure(2000x1000)\n",
            "Figure(2000x1000)\n",
            "Figure(2000x1000)\n",
            "Figure(2000x1000)\n",
            "Figure(2000x1000)\n",
            "Figure(2000x1000)\n",
            "Figure(2000x1000)\n",
            "No result for 2011_09_26_drive_0091_extract\n",
            "\n",
            "Results for: 2011_09_30_drive_0034_extract\n",
            "Total sequence time: 127.53 s\n",
            "Figure(2000x1000)\n",
            "Figure(2000x1000)\n",
            "Figure(2000x1000)\n",
            "Figure(2000x1000)\n",
            "Figure(2000x1000)\n",
            "Figure(2000x1000)\n",
            "Figure(2000x1000)\n",
            "No result for 2011_09_26_drive_0009_extract\n",
            "No result for 2011_09_26_drive_0101_extract\n",
            "No result for 2011_09_26_drive_0014_extract\n",
            "No result for 2011_09_26_drive_0117_extract\n"
          ]
        }
      ]
    },
    {
      "cell_type": "code",
      "source": [
        "from google.colab import files\n",
        "files.download('/content/ai-imu-dr/results/2011_10_03_drive_0042_extract/position_xy_aligned.png') "
      ],
      "metadata": {
        "id": "OvBB-lq234uw",
        "colab": {
          "base_uri": "https://localhost:8080/",
          "height": 17
        },
        "outputId": "35a55fdb-914b-45f7-cf4b-e205df6eb196"
      },
      "execution_count": null,
      "outputs": [
        {
          "output_type": "display_data",
          "data": {
            "text/plain": [
              "<IPython.core.display.Javascript object>"
            ],
            "application/javascript": [
              "\n",
              "    async function download(id, filename, size) {\n",
              "      if (!google.colab.kernel.accessAllowed) {\n",
              "        return;\n",
              "      }\n",
              "      const div = document.createElement('div');\n",
              "      const label = document.createElement('label');\n",
              "      label.textContent = `Downloading \"${filename}\": `;\n",
              "      div.appendChild(label);\n",
              "      const progress = document.createElement('progress');\n",
              "      progress.max = size;\n",
              "      div.appendChild(progress);\n",
              "      document.body.appendChild(div);\n",
              "\n",
              "      const buffers = [];\n",
              "      let downloaded = 0;\n",
              "\n",
              "      const channel = await google.colab.kernel.comms.open(id);\n",
              "      // Send a message to notify the kernel that we're ready.\n",
              "      channel.send({})\n",
              "\n",
              "      for await (const message of channel.messages) {\n",
              "        // Send a message to notify the kernel that we're ready.\n",
              "        channel.send({})\n",
              "        if (message.buffers) {\n",
              "          for (const buffer of message.buffers) {\n",
              "            buffers.push(buffer);\n",
              "            downloaded += buffer.byteLength;\n",
              "            progress.value = downloaded;\n",
              "          }\n",
              "        }\n",
              "      }\n",
              "      const blob = new Blob(buffers, {type: 'application/binary'});\n",
              "      const a = document.createElement('a');\n",
              "      a.href = window.URL.createObjectURL(blob);\n",
              "      a.download = filename;\n",
              "      div.appendChild(a);\n",
              "      a.click();\n",
              "      div.remove();\n",
              "    }\n",
              "  "
            ]
          },
          "metadata": {}
        },
        {
          "output_type": "display_data",
          "data": {
            "text/plain": [
              "<IPython.core.display.Javascript object>"
            ],
            "application/javascript": [
              "download(\"download_81c36ff1-5139-42a6-8a10-0a94c0d65818\", \"position_xy_aligned.png\", 60881)"
            ]
          },
          "metadata": {}
        }
      ]
    },
    {
      "cell_type": "code",
      "source": [
        "!zip -r '/content/ai-imu-dr/results.zip' '/content/ai-imu-dr/results'"
      ],
      "metadata": {
        "id": "7zW4ETMxF5_g",
        "colab": {
          "base_uri": "https://localhost:8080/"
        },
        "outputId": "3bbb47a0-738f-45fc-8c6c-9ea70add28c3"
      },
      "execution_count": null,
      "outputs": [
        {
          "output_type": "stream",
          "name": "stdout",
          "text": [
            "  adding: content/ai-imu-dr/results/ (stored 0%)\n",
            "  adding: content/ai-imu-dr/results/2011_09_30_drive_0018_extract/ (stored 0%)\n",
            "  adding: content/ai-imu-dr/results/2011_09_30_drive_0018_extract/imu.png (deflated 3%)\n",
            "  adding: content/ai-imu-dr/results/2011_09_30_drive_0018_extract/position_xy_aligned.png (deflated 10%)\n",
            "  adding: content/ai-imu-dr/results/2011_09_30_drive_0018_extract/errors.png (deflated 7%)\n",
            "  adding: content/ai-imu-dr/results/2011_09_30_drive_0018_extract/position_xy.png (deflated 11%)\n",
            "  adding: content/ai-imu-dr/results/2011_09_30_drive_0018_extract/position_velocity.png (deflated 3%)\n",
            "  adding: content/ai-imu-dr/results/2011_09_30_drive_0018_extract/measurements_covs.png (deflated 4%)\n",
            "  adding: content/ai-imu-dr/results/2011_09_30_drive_0018_extract/orientation_bias.png (deflated 6%)\n",
            "  adding: content/ai-imu-dr/results/.ipynb_checkpoints/ (stored 0%)\n",
            "  adding: content/ai-imu-dr/results/2011_09_30_drive_0020_extract/ (stored 0%)\n",
            "  adding: content/ai-imu-dr/results/2011_09_30_drive_0020_extract/imu.png (deflated 4%)\n",
            "  adding: content/ai-imu-dr/results/2011_09_30_drive_0020_extract/position_xy_aligned.png (deflated 18%)\n",
            "  adding: content/ai-imu-dr/results/2011_09_30_drive_0020_extract/errors.png (deflated 6%)\n",
            "  adding: content/ai-imu-dr/results/2011_09_30_drive_0020_extract/position_xy.png (deflated 17%)\n",
            "  adding: content/ai-imu-dr/results/2011_09_30_drive_0020_extract/position_velocity.png (deflated 5%)\n",
            "  adding: content/ai-imu-dr/results/2011_09_30_drive_0020_extract/measurements_covs.png (deflated 4%)\n",
            "  adding: content/ai-imu-dr/results/2011_09_30_drive_0020_extract/orientation_bias.png (deflated 7%)\n",
            "  adding: content/ai-imu-dr/results/2011_09_30_drive_0028_extract/ (stored 0%)\n",
            "  adding: content/ai-imu-dr/results/2011_09_30_drive_0028_extract/imu.png (deflated 3%)\n",
            "  adding: content/ai-imu-dr/results/2011_09_30_drive_0028_extract/position_xy_aligned.png (deflated 10%)\n",
            "  adding: content/ai-imu-dr/results/2011_09_30_drive_0028_extract/errors.png (deflated 6%)\n",
            "  adding: content/ai-imu-dr/results/2011_09_30_drive_0028_extract/position_xy.png (deflated 10%)\n",
            "  adding: content/ai-imu-dr/results/2011_09_30_drive_0028_extract/position_velocity.png (deflated 2%)\n",
            "  adding: content/ai-imu-dr/results/2011_09_30_drive_0028_extract/measurements_covs.png (deflated 3%)\n",
            "  adding: content/ai-imu-dr/results/2011_09_30_drive_0028_extract/orientation_bias.png (deflated 4%)\n",
            "  adding: content/ai-imu-dr/results/2011_10_03_drive_0027_extract/ (stored 0%)\n",
            "  adding: content/ai-imu-dr/results/2011_10_03_drive_0027_extract/imu.png (deflated 3%)\n",
            "  adding: content/ai-imu-dr/results/2011_10_03_drive_0027_extract/position_xy_aligned.png (deflated 9%)\n",
            "  adding: content/ai-imu-dr/results/2011_10_03_drive_0027_extract/errors.png (deflated 8%)\n",
            "  adding: content/ai-imu-dr/results/2011_10_03_drive_0027_extract/position_xy.png (deflated 8%)\n",
            "  adding: content/ai-imu-dr/results/2011_10_03_drive_0027_extract/position_velocity.png (deflated 2%)\n",
            "  adding: content/ai-imu-dr/results/2011_10_03_drive_0027_extract/measurements_covs.png (deflated 3%)\n",
            "  adding: content/ai-imu-dr/results/2011_10_03_drive_0027_extract/orientation_bias.png (deflated 5%)\n",
            "  adding: content/ai-imu-dr/results/2011_09_30_drive_0016_extract/ (stored 0%)\n",
            "  adding: content/ai-imu-dr/results/2011_09_30_drive_0016_extract/imu.png (deflated 4%)\n",
            "  adding: content/ai-imu-dr/results/2011_09_30_drive_0016_extract/position_xy_aligned.png (deflated 25%)\n",
            "  adding: content/ai-imu-dr/results/2011_09_30_drive_0016_extract/errors.png (deflated 8%)\n",
            "  adding: content/ai-imu-dr/results/2011_09_30_drive_0016_extract/position_xy.png (deflated 25%)\n",
            "  adding: content/ai-imu-dr/results/2011_09_30_drive_0016_extract/position_velocity.png (deflated 10%)\n",
            "  adding: content/ai-imu-dr/results/2011_09_30_drive_0016_extract/measurements_covs.png (deflated 5%)\n",
            "  adding: content/ai-imu-dr/results/2011_09_30_drive_0016_extract/orientation_bias.png (deflated 10%)\n",
            "  adding: content/ai-imu-dr/results/2011_09_30_drive_0034_extract/ (stored 0%)\n",
            "  adding: content/ai-imu-dr/results/2011_09_30_drive_0034_extract/imu.png (deflated 3%)\n",
            "  adding: content/ai-imu-dr/results/2011_09_30_drive_0034_extract/position_xy_aligned.png (deflated 18%)\n",
            "  adding: content/ai-imu-dr/results/2011_09_30_drive_0034_extract/errors.png (deflated 6%)\n",
            "  adding: content/ai-imu-dr/results/2011_09_30_drive_0034_extract/position_xy.png (deflated 18%)\n",
            "  adding: content/ai-imu-dr/results/2011_09_30_drive_0034_extract/position_velocity.png (deflated 4%)\n",
            "  adding: content/ai-imu-dr/results/2011_09_30_drive_0034_extract/measurements_covs.png (deflated 4%)\n",
            "  adding: content/ai-imu-dr/results/2011_09_30_drive_0034_extract/orientation_bias.png (deflated 5%)\n",
            "  adding: content/ai-imu-dr/results/2011_10_03_drive_0042_extract/ (stored 0%)\n",
            "  adding: content/ai-imu-dr/results/2011_10_03_drive_0042_extract/imu.png (deflated 5%)\n",
            "  adding: content/ai-imu-dr/results/2011_10_03_drive_0042_extract/position_xy_aligned.png (deflated 15%)\n",
            "  adding: content/ai-imu-dr/results/2011_10_03_drive_0042_extract/errors.png (deflated 6%)\n",
            "  adding: content/ai-imu-dr/results/2011_10_03_drive_0042_extract/position_xy.png (deflated 13%)\n",
            "  adding: content/ai-imu-dr/results/2011_10_03_drive_0042_extract/position_velocity.png (deflated 6%)\n",
            "  adding: content/ai-imu-dr/results/2011_10_03_drive_0042_extract/measurements_covs.png (deflated 5%)\n",
            "  adding: content/ai-imu-dr/results/2011_10_03_drive_0042_extract/orientation_bias.png (deflated 7%)\n",
            "  adding: content/ai-imu-dr/results/2011_09_30_drive_0033_extract/ (stored 0%)\n",
            "  adding: content/ai-imu-dr/results/2011_09_30_drive_0033_extract/imu.png (deflated 3%)\n",
            "  adding: content/ai-imu-dr/results/2011_09_30_drive_0033_extract/position_xy_aligned.png (deflated 12%)\n",
            "  adding: content/ai-imu-dr/results/2011_09_30_drive_0033_extract/errors.png (deflated 6%)\n",
            "  adding: content/ai-imu-dr/results/2011_09_30_drive_0033_extract/position_xy.png (deflated 10%)\n",
            "  adding: content/ai-imu-dr/results/2011_09_30_drive_0033_extract/position_velocity.png (deflated 4%)\n",
            "  adding: content/ai-imu-dr/results/2011_09_30_drive_0033_extract/measurements_covs.png (deflated 3%)\n",
            "  adding: content/ai-imu-dr/results/2011_09_30_drive_0033_extract/orientation_bias.png (deflated 6%)\n",
            "  adding: content/ai-imu-dr/results/2011_10_03_drive_0034_extract/ (stored 0%)\n",
            "  adding: content/ai-imu-dr/results/2011_10_03_drive_0034_extract/imu.png (deflated 3%)\n",
            "  adding: content/ai-imu-dr/results/2011_10_03_drive_0034_extract/position_xy_aligned.png (deflated 7%)\n",
            "  adding: content/ai-imu-dr/results/2011_10_03_drive_0034_extract/errors.png (deflated 8%)\n",
            "  adding: content/ai-imu-dr/results/2011_10_03_drive_0034_extract/position_xy.png (deflated 8%)\n",
            "  adding: content/ai-imu-dr/results/2011_10_03_drive_0034_extract/position_velocity.png (deflated 2%)\n",
            "  adding: content/ai-imu-dr/results/2011_10_03_drive_0034_extract/measurements_covs.png (deflated 3%)\n",
            "  adding: content/ai-imu-dr/results/2011_10_03_drive_0034_extract/orientation_bias.png (deflated 5%)\n",
            "  adding: content/ai-imu-dr/results/2011_09_30_drive_0027_extract/ (stored 0%)\n",
            "  adding: content/ai-imu-dr/results/2011_09_30_drive_0027_extract/imu.png (deflated 4%)\n",
            "  adding: content/ai-imu-dr/results/2011_09_30_drive_0027_extract/position_xy_aligned.png (deflated 10%)\n",
            "  adding: content/ai-imu-dr/results/2011_09_30_drive_0027_extract/errors.png (deflated 6%)\n",
            "  adding: content/ai-imu-dr/results/2011_09_30_drive_0027_extract/position_xy.png (deflated 10%)\n",
            "  adding: content/ai-imu-dr/results/2011_09_30_drive_0027_extract/position_velocity.png (deflated 4%)\n",
            "  adding: content/ai-imu-dr/results/2011_09_30_drive_0027_extract/measurements_covs.png (deflated 4%)\n",
            "  adding: content/ai-imu-dr/results/2011_09_30_drive_0027_extract/orientation_bias.png (deflated 6%)\n"
          ]
        }
      ]
    },
    {
      "cell_type": "code",
      "source": [],
      "metadata": {
        "id": "TGtbL5MSThbX"
      },
      "execution_count": null,
      "outputs": []
    }
  ]
}